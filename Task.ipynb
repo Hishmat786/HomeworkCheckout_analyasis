{
 "cells": [
  {
   "cell_type": "code",
   "execution_count": 45,
   "metadata": {},
   "outputs": [],
   "source": [
    "import pandas as pd\n",
    "import matplotlib.pyplot as plt"
   ]
  },
  {
   "cell_type": "code",
   "execution_count": 59,
   "metadata": {},
   "outputs": [
    {
     "data": {
      "text/plain": [
       "user_id         0\n",
       "checkout_id     0\n",
       "checkout_ts     0\n",
       "is_approved     0\n",
       "is_authed       0\n",
       "loan_amount     0\n",
       "apr             0\n",
       "fico_score     11\n",
       "dtype: int64"
      ]
     },
     "execution_count": 59,
     "metadata": {},
     "output_type": "execute_result"
    }
   ],
   "source": [
    "checkout= pd.read_csv('homework_checkouts - Sheet1.csv')\n",
    "checkout.isnull().sum()\n",
    "# checkout.shape"
   ]
  },
  {
   "cell_type": "code",
   "execution_count": 3,
   "metadata": {},
   "outputs": [
    {
     "data": {
      "text/plain": [
       "user_id        0\n",
       "checkout_id    0\n",
       "checkout_ts    0\n",
       "is_approved    0\n",
       "is_authed      0\n",
       "loan_amount    0\n",
       "apr            0\n",
       "fico_score     0\n",
       "dtype: int64"
      ]
     },
     "execution_count": 3,
     "metadata": {},
     "output_type": "execute_result"
    }
   ],
   "source": [
    "checkout['fico_score'].fillna(checkout['fico_score'].mean(), inplace=True)\n",
    "checkout.isnull().sum()"
   ]
  },
  {
   "cell_type": "code",
   "execution_count": 60,
   "metadata": {},
   "outputs": [
    {
     "data": {
      "text/plain": [
       "user_id         0\n",
       "is_returning    0\n",
       "dtype: int64"
      ]
     },
     "execution_count": 60,
     "metadata": {},
     "output_type": "execute_result"
    }
   ],
   "source": [
    "email= pd.read_csv(\"email_list_homework - Sheet1.csv\")\n",
    "email.isnull().sum()\n",
    "# email.shape"
   ]
  },
  {
   "cell_type": "code",
   "execution_count": 61,
   "metadata": {},
   "outputs": [
    {
     "data": {
      "text/plain": [
       "checkout_id      0\n",
       "contacts         0\n",
       "is_charge_off    0\n",
       "dtype: int64"
      ]
     },
     "execution_count": 61,
     "metadata": {},
     "output_type": "execute_result"
    }
   ],
   "source": [
    "service= pd.read_csv('servicing_homework - Sheet1.csv')\n",
    "service.isnull().sum()\n",
    "# service.shape"
   ]
  },
  {
   "cell_type": "code",
   "execution_count": 62,
   "metadata": {},
   "outputs": [
    {
     "data": {
      "text/plain": [
       "(1935, 11)"
      ]
     },
     "execution_count": 62,
     "metadata": {},
     "output_type": "execute_result"
    }
   ],
   "source": [
    "merged_data = pd.merge(checkout, email, on=\"user_id\", how=\"left\")\n",
    "merged_data = pd.merge(merged_data, service, on=\"checkout_id\", how=\"left\")\n",
    "merged_data.head()\n",
    "merged_data.isnull().sum()  # check for missing values\n",
    "merged_data.shape"
   ]
  },
  {
   "cell_type": "code",
   "execution_count": 49,
   "metadata": {},
   "outputs": [],
   "source": [
    "merged_data['fico_score'].fillna(merged_data['fico_score'].mean(), inplace=True)\n",
    "merged_data['is_returning'].fillna(merged_data['is_returning'].mode(), inplace=True)\n",
    "merged_data['contacts'].fillna(merged_data['contacts'].mode(), inplace=True)\n",
    "merged_data['is_charge_off'].fillna(merged_data['is_charge_off'].mode(), inplace=True)"
   ]
  },
  {
   "cell_type": "code",
   "execution_count": 63,
   "metadata": {},
   "outputs": [
    {
     "name": "stdout",
     "output_type": "stream",
     "text": [
      "User Conversion Rate: 0.8030933967876264\n",
      "Authed Conversion Rate: 0.8059796437659033\n"
     ]
    }
   ],
   "source": [
    "# Calculate conversion rate for returning vs. new users\n",
    "conversion_rate_user = merged_data.groupby(\"user_id\")[\"is_approved\"].max().mean()\n",
    "conversion_rate_authed = merged_data.loc[merged_data[\"is_approved\"] == 1, \"is_authed\"].mean()\n",
    "\n",
    "print(\"User Conversion Rate:\",conversion_rate_user)\n",
    "print(\"Authed Conversion Rate:\",conversion_rate_authed)"
   ]
  },
  {
   "cell_type": "code",
   "execution_count": 53,
   "metadata": {},
   "outputs": [
    {
     "name": "stdout",
     "output_type": "stream",
     "text": [
      "Total Revenue: $ 42902.600000000006\n"
     ]
    }
   ],
   "source": [
    "# Calculate revenue from MDR and interest\n",
    "checkout[\"revenue\"] = 0  # Initialize revenue column\n",
    "\n",
    "# Calculate revenue from MDR\n",
    "checkout.loc[checkout[\"apr\"] == \"IB\", \"revenue\"] = 0.02 * checkout[\"loan_amount\"]  # MDR for interest-bearing loans\n",
    "checkout.loc[checkout[\"apr\"] == \"Zero\", \"revenue\"] = 0.05 * checkout[\"loan_amount\"]  # MDR for zero-percent loans\n",
    "\n",
    "# Calculate revenue from interest\n",
    "checkout.loc[checkout[\"apr\"] == \"IB\", \"revenue\"] += 0.05 * checkout[\"loan_amount\"]  # Interest revenue for interest-bearing loans\n",
    "\n",
    "# Total revenue\n",
    "total_revenue = checkout[\"revenue\"].sum()\n",
    "\n",
    "print(\"Total Revenue: $\", total_revenue)"
   ]
  },
  {
   "cell_type": "code",
   "execution_count": 64,
   "metadata": {},
   "outputs": [
    {
     "name": "stdout",
     "output_type": "stream",
     "text": [
      "Total Cost for Contacts:  9000.0\n",
      "Total Cost for Charge-offs:  12513\n",
      "Total Cost for Email List Acquisition:  379085\n"
     ]
    }
   ],
   "source": [
    "# Calculate total cost for contacts\n",
    "total_contacts_cost = 30 * merged_data[\"contacts\"].sum()\n",
    "\n",
    "# Calculate total cost for charge-offs\n",
    "total_charge_off_cost = merged_data.loc[merged_data[\"is_charge_off\"] == 1, \"loan_amount\"].sum()\n",
    "\n",
    "# Calculate total cost for email list acquisition\n",
    "total_email_list_cost = 35 * len(email)\n",
    "\n",
    "print(\"Total Cost for Contacts: \", total_contacts_cost)\n",
    "print(\"Total Cost for Charge-offs: \", total_charge_off_cost)\n",
    "print(\"Total Cost for Email List Acquisition: \", total_email_list_cost)"
   ]
  },
  {
   "cell_type": "code",
   "execution_count": 57,
   "metadata": {},
   "outputs": [
    {
     "data": {
      "text/plain": [
       "<Axes: title={'center': 'Conversion Rate Improvement'}>"
      ]
     },
     "execution_count": 57,
     "metadata": {},
     "output_type": "execute_result"
    },
    {
     "data": {
      "image/png": "[encoded data removed]",
      "text/plain": [
       "<Figure size 640x480 with 1 Axes>"
      ]
     },
     "metadata": {},
     "output_type": "display_data"
    }
   ],
   "source": [
    "# Create conversion rate bar plot\n",
    "conversion_rate_slide = pd.DataFrame({\n",
    "    \"Conversion Rate\": [conversion_rate_user, conversion_rate_authed]\n",
    "}, index=[\"User to Approved\", \"Approved to Authed\"])\n",
    "conversion_rate_slide.plot(kind=\"bar\", title=\"Conversion Rate Improvement\")"
   ]
  },
  {
   "cell_type": "code",
   "execution_count": 58,
   "metadata": {},
   "outputs": [
    {
     "data": {
      "text/plain": [
       "<Axes: title={'center': 'Revenue vs. Costs Analysis'}>"
      ]
     },
     "execution_count": 58,
     "metadata": {},
     "output_type": "execute_result"
    },
    {
     "data": {
      "image/png": "[encoded data removed]",
      "text/plain": [
       "<Figure size 640x480 with 1 Axes>"
      ]
     },
     "metadata": {},
     "output_type": "display_data"
    }
   ],
   "source": [
    "# Revenue and Costs Analysis\n",
    "revenue_costs_slide = pd.DataFrame({\n",
    "    \"Revenue\": [total_revenue],\n",
    "    \"Total Contacts Cost\": [total_contacts_cost],\n",
    "    \"Total Charge-off Cost\": [total_charge_off_cost]\n",
    "})\n",
    "revenue_costs_slide.plot(kind=\"bar\", title=\"Revenue vs. Costs Analysis\")"
   ]
  }
 ],
 "metadata": {
  "kernelspec": {
   "display_name": "Python 3",
   "language": "python",
   "name": "python3"
  },
  "language_info": {
   "codemirror_mode": {
    "name": "ipython",
    "version": 3
   },
   "file_extension": ".py",
   "mimetype": "text/x-python",
   "name": "python",
   "nbconvert_exporter": "python",
   "pygments_lexer": "ipython3",
   "version": "3.10.6"
  }
 },
 "nbformat": 4,
 "nbformat_minor": 2
}
